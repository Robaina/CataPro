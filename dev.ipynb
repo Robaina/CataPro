{
 "cells": [
  {
   "cell_type": "code",
   "execution_count": null,
   "id": "37ebc9e4",
   "metadata": {},
   "outputs": [],
   "source": [
    "%%bash\n",
    "\n",
    "docker run --gpus all \\\n",
    "  -v /path/to/your/local/data:/app/samples \\\n",
    "  -v /path/to/your/local/models:/app/models \\\n",
    "  catapro_image \\\n",
    "  -inp_fpath samples/sample_inp.csv \\\n",
    "  -model_dpath /app/models \\\n",
    "  -batch_size 64 \\\n",
    "  -device cuda:0 \\\n",
    "  -out_fpath samples/catapro_prediction.csv"
   ]
  }
 ],
 "metadata": {
  "kernelspec": {
   "display_name": "base",
   "language": "python",
   "name": "python3"
  },
  "language_info": {
   "name": "python",
   "version": "3.9.16"
  }
 },
 "nbformat": 4,
 "nbformat_minor": 5
}
